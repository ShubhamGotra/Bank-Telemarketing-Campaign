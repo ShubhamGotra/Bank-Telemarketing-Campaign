{
 "cells": [
  {
   "cell_type": "markdown",
   "metadata": {},
   "source": [
    "# Introduction: Capstone Project Part 2 \n"
   ]
  },
  {
   "cell_type": "markdown",
   "metadata": {},
   "source": [
    "Since now we have established a baseline and also performed the null value imputation and prepared our train Data. We would now be applying techniques to \n",
    "1. Treat the Imbalance in our data \n",
    "2. Apply multiple models to the data and compare the accuracy we get from all of them \n",
    "3. Fine tune these models to get the best parameters for optimum score in testing. "
   ]
  },
  {
   "cell_type": "code",
   "execution_count": 29,
   "metadata": {},
   "outputs": [],
   "source": [
    "from sklearn.metrics import f1_score\n",
    "import pandas as pd \n",
    "import numpy as np \n",
    "import matplotlib.pyplot as plt \n",
    "import seaborn as sns \n",
    "from sklearn.linear_model import LogisticRegression\n",
    "from sklearn.metrics import classification_report, confusion_matrix, f1_score, accuracy_score"
   ]
  },
  {
   "cell_type": "code",
   "execution_count": 20,
   "metadata": {},
   "outputs": [],
   "source": [
    "df = pd.read_csv('data/final_train.csv')"
   ]
  },
  {
   "cell_type": "code",
   "execution_count": 21,
   "metadata": {},
   "outputs": [
    {
     "data": {
      "text/html": [
       "<div>\n",
       "<style scoped>\n",
       "    .dataframe tbody tr th:only-of-type {\n",
       "        vertical-align: middle;\n",
       "    }\n",
       "\n",
       "    .dataframe tbody tr th {\n",
       "        vertical-align: top;\n",
       "    }\n",
       "\n",
       "    .dataframe thead th {\n",
       "        text-align: right;\n",
       "    }\n",
       "</style>\n",
       "<table border=\"1\" class=\"dataframe\">\n",
       "  <thead>\n",
       "    <tr style=\"text-align: right;\">\n",
       "      <th></th>\n",
       "      <th>age</th>\n",
       "      <th>duration</th>\n",
       "      <th>campaign</th>\n",
       "      <th>pdays</th>\n",
       "      <th>emp.var.rate</th>\n",
       "      <th>cons.price.idx</th>\n",
       "      <th>cons.conf.idx</th>\n",
       "      <th>euribor3m</th>\n",
       "      <th>nr.employed</th>\n",
       "      <th>marital_divorced</th>\n",
       "      <th>...</th>\n",
       "      <th>month_sep</th>\n",
       "      <th>day_of_week_fri</th>\n",
       "      <th>day_of_week_mon</th>\n",
       "      <th>day_of_week_thu</th>\n",
       "      <th>day_of_week_tue</th>\n",
       "      <th>day_of_week_wed</th>\n",
       "      <th>poutcome_failure</th>\n",
       "      <th>poutcome_nonexistent</th>\n",
       "      <th>poutcome_success</th>\n",
       "      <th>y</th>\n",
       "    </tr>\n",
       "  </thead>\n",
       "  <tbody>\n",
       "    <tr>\n",
       "      <th>0</th>\n",
       "      <td>35</td>\n",
       "      <td>2.966667</td>\n",
       "      <td>2</td>\n",
       "      <td>0</td>\n",
       "      <td>1.1</td>\n",
       "      <td>93.994</td>\n",
       "      <td>-36.4</td>\n",
       "      <td>4.857</td>\n",
       "      <td>5191.0</td>\n",
       "      <td>0</td>\n",
       "      <td>...</td>\n",
       "      <td>0</td>\n",
       "      <td>1</td>\n",
       "      <td>0</td>\n",
       "      <td>0</td>\n",
       "      <td>0</td>\n",
       "      <td>0</td>\n",
       "      <td>0</td>\n",
       "      <td>1</td>\n",
       "      <td>0</td>\n",
       "      <td>0</td>\n",
       "    </tr>\n",
       "    <tr>\n",
       "      <th>1</th>\n",
       "      <td>22</td>\n",
       "      <td>4.266667</td>\n",
       "      <td>3</td>\n",
       "      <td>0</td>\n",
       "      <td>-1.7</td>\n",
       "      <td>94.215</td>\n",
       "      <td>-40.3</td>\n",
       "      <td>0.835</td>\n",
       "      <td>4991.6</td>\n",
       "      <td>0</td>\n",
       "      <td>...</td>\n",
       "      <td>0</td>\n",
       "      <td>0</td>\n",
       "      <td>0</td>\n",
       "      <td>0</td>\n",
       "      <td>1</td>\n",
       "      <td>0</td>\n",
       "      <td>1</td>\n",
       "      <td>0</td>\n",
       "      <td>0</td>\n",
       "      <td>1</td>\n",
       "    </tr>\n",
       "    <tr>\n",
       "      <th>2</th>\n",
       "      <td>38</td>\n",
       "      <td>0.700000</td>\n",
       "      <td>5</td>\n",
       "      <td>0</td>\n",
       "      <td>1.4</td>\n",
       "      <td>94.465</td>\n",
       "      <td>-41.8</td>\n",
       "      <td>4.959</td>\n",
       "      <td>5228.1</td>\n",
       "      <td>0</td>\n",
       "      <td>...</td>\n",
       "      <td>0</td>\n",
       "      <td>1</td>\n",
       "      <td>0</td>\n",
       "      <td>0</td>\n",
       "      <td>0</td>\n",
       "      <td>0</td>\n",
       "      <td>0</td>\n",
       "      <td>1</td>\n",
       "      <td>0</td>\n",
       "      <td>0</td>\n",
       "    </tr>\n",
       "    <tr>\n",
       "      <th>3</th>\n",
       "      <td>25</td>\n",
       "      <td>7.366667</td>\n",
       "      <td>2</td>\n",
       "      <td>0</td>\n",
       "      <td>1.4</td>\n",
       "      <td>93.918</td>\n",
       "      <td>-42.7</td>\n",
       "      <td>4.963</td>\n",
       "      <td>5228.1</td>\n",
       "      <td>0</td>\n",
       "      <td>...</td>\n",
       "      <td>0</td>\n",
       "      <td>0</td>\n",
       "      <td>0</td>\n",
       "      <td>0</td>\n",
       "      <td>0</td>\n",
       "      <td>1</td>\n",
       "      <td>0</td>\n",
       "      <td>1</td>\n",
       "      <td>0</td>\n",
       "      <td>0</td>\n",
       "    </tr>\n",
       "    <tr>\n",
       "      <th>4</th>\n",
       "      <td>37</td>\n",
       "      <td>1.783333</td>\n",
       "      <td>4</td>\n",
       "      <td>0</td>\n",
       "      <td>1.4</td>\n",
       "      <td>93.444</td>\n",
       "      <td>-36.1</td>\n",
       "      <td>4.964</td>\n",
       "      <td>5228.1</td>\n",
       "      <td>0</td>\n",
       "      <td>...</td>\n",
       "      <td>0</td>\n",
       "      <td>0</td>\n",
       "      <td>0</td>\n",
       "      <td>0</td>\n",
       "      <td>0</td>\n",
       "      <td>1</td>\n",
       "      <td>0</td>\n",
       "      <td>1</td>\n",
       "      <td>0</td>\n",
       "      <td>0</td>\n",
       "    </tr>\n",
       "  </tbody>\n",
       "</table>\n",
       "<p>5 rows × 40 columns</p>\n",
       "</div>"
      ],
      "text/plain": [
       "   age  duration  campaign  pdays  emp.var.rate  cons.price.idx  \\\n",
       "0   35  2.966667         2      0           1.1          93.994   \n",
       "1   22  4.266667         3      0          -1.7          94.215   \n",
       "2   38  0.700000         5      0           1.4          94.465   \n",
       "3   25  7.366667         2      0           1.4          93.918   \n",
       "4   37  1.783333         4      0           1.4          93.444   \n",
       "\n",
       "   cons.conf.idx  euribor3m  nr.employed  marital_divorced  ...  month_sep  \\\n",
       "0          -36.4      4.857       5191.0                 0  ...          0   \n",
       "1          -40.3      0.835       4991.6                 0  ...          0   \n",
       "2          -41.8      4.959       5228.1                 0  ...          0   \n",
       "3          -42.7      4.963       5228.1                 0  ...          0   \n",
       "4          -36.1      4.964       5228.1                 0  ...          0   \n",
       "\n",
       "   day_of_week_fri  day_of_week_mon  day_of_week_thu  day_of_week_tue  \\\n",
       "0                1                0                0                0   \n",
       "1                0                0                0                1   \n",
       "2                1                0                0                0   \n",
       "3                0                0                0                0   \n",
       "4                0                0                0                0   \n",
       "\n",
       "   day_of_week_wed  poutcome_failure  poutcome_nonexistent  poutcome_success  \\\n",
       "0                0                 0                     1                 0   \n",
       "1                0                 1                     0                 0   \n",
       "2                0                 0                     1                 0   \n",
       "3                1                 0                     1                 0   \n",
       "4                1                 0                     1                 0   \n",
       "\n",
       "   y  \n",
       "0  0  \n",
       "1  1  \n",
       "2  0  \n",
       "3  0  \n",
       "4  0  \n",
       "\n",
       "[5 rows x 40 columns]"
      ]
     },
     "execution_count": 21,
     "metadata": {},
     "output_type": "execute_result"
    }
   ],
   "source": [
    "df.head()"
   ]
  },
  {
   "cell_type": "markdown",
   "metadata": {},
   "source": [
    "## Imbalance data treatment"
   ]
  },
  {
   "cell_type": "code",
   "execution_count": 15,
   "metadata": {},
   "outputs": [
    {
     "name": "stdout",
     "output_type": "stream",
     "text": [
      "Not_Subscribed 84.63 % of the dataset\n",
      "Subscribed 10.71 % of the dataset\n"
     ]
    }
   ],
   "source": [
    "# The classes are heavily skewed we need to solve this issue later.\n",
    "print('Not_Subscribed', round(df['y'].value_counts()[0]/len(df) * 100,2), '% of the dataset')\n",
    "print('Subscribed', round(df['y'].value_counts()[1]/len(df) * 100,2), '% of the dataset')"
   ]
  },
  {
   "cell_type": "markdown",
   "metadata": {},
   "source": [
    "- Most of the people have not subscribed for term deposit. If we use this dataframe as the base for our predictive models and analysis we might get a lot of errors and our algorithms would be biased towards majority class ie., not subscribed. \n",
    "- Thus, handling imbalanced data is critical to model prediction"
   ]
  },
  {
   "cell_type": "code",
   "execution_count": 16,
   "metadata": {},
   "outputs": [
    {
     "data": {
      "text/plain": [
       "Text(0.5, 1.0, 'Class Distributions in Term Deposit Subscription \\n (0: Not Subscribed || 1: Sunscribed)')"
      ]
     },
     "execution_count": 16,
     "metadata": {},
     "output_type": "execute_result"
    },
    {
     "data": {
      "image/png": "[encoded data removed]",
      "text/plain": [
       "<Figure size 432x288 with 1 Axes>"
      ]
     },
     "metadata": {
      "needs_background": "light"
     },
     "output_type": "display_data"
    }
   ],
   "source": [
    "sns.countplot('y', data=df)\n",
    "plt.title('Class Distributions in Term Deposit Subscription \\n (0: Not Subscribed || 1: Sunscribed)', fontsize=14)"
   ]
  },
  {
   "cell_type": "code",
   "execution_count": 22,
   "metadata": {},
   "outputs": [
    {
     "name": "stdout",
     "output_type": "stream",
     "text": [
      "Number transactions X_train dataset:  (23065, 39)\n",
      "Number transactions y_train dataset:  (23065,)\n",
      "Number transactions X_test dataset:  (9885, 39)\n",
      "Number transactions y_test dataset:  (9885,)\n"
     ]
    }
   ],
   "source": [
    "# Splitting data into train and validation set:\n",
    "from sklearn.model_selection import train_test_split \n",
    "\n",
    "y=df['y']\n",
    "X=df.drop('y',axis=1)\n",
    "# split into 70:30 ratio\n",
    "X_train, X_test, y_train, y_test = train_test_split(X, y, test_size = 0.3, random_state = 0) \n",
    "\n",
    "# describes info about train and test set \n",
    "print(\"Number transactions X_train dataset: \", X_train.shape) \n",
    "print(\"Number transactions y_train dataset: \", y_train.shape) \n",
    "print(\"Number transactions X_test dataset: \", X_test.shape) \n",
    "print(\"Number transactions y_test dataset: \", y_test.shape) \n"
   ]
  },
  {
   "cell_type": "markdown",
   "metadata": {},
   "source": [
    "### Scaling the Data:"
   ]
  },
  {
   "cell_type": "code",
   "execution_count": 35,
   "metadata": {},
   "outputs": [],
   "source": [
    "from sklearn.preprocessing import StandardScaler\n",
    "ss = StandardScaler()"
   ]
  },
  {
   "cell_type": "code",
   "execution_count": 37,
   "metadata": {},
   "outputs": [
    {
     "name": "stderr",
     "output_type": "stream",
     "text": [
      "C:\\Users\\deep\\Anaconda3\\lib\\site-packages\\sklearn\\preprocessing\\data.py:645: DataConversionWarning: Data with input dtype int64, float64 were all converted to float64 by StandardScaler.\n",
      "  return self.partial_fit(X, y)\n",
      "C:\\Users\\deep\\Anaconda3\\lib\\site-packages\\sklearn\\base.py:464: DataConversionWarning: Data with input dtype int64, float64 were all converted to float64 by StandardScaler.\n",
      "  return self.fit(X, **fit_params).transform(X)\n",
      "C:\\Users\\deep\\Anaconda3\\lib\\site-packages\\sklearn\\preprocessing\\data.py:645: DataConversionWarning: Data with input dtype int64, float64 were all converted to float64 by StandardScaler.\n",
      "  return self.partial_fit(X, y)\n",
      "C:\\Users\\deep\\Anaconda3\\lib\\site-packages\\sklearn\\base.py:464: DataConversionWarning: Data with input dtype int64, float64 were all converted to float64 by StandardScaler.\n",
      "  return self.fit(X, **fit_params).transform(X)\n"
     ]
    }
   ],
   "source": [
    "X_train = pd.DataFrame(ss.fit_transform(X_train),columns=X_train.columns)\n",
    "X_test = pd.DataFrame(ss.fit_transform(X_test),columns=X_test.columns)"
   ]
  },
  {
   "cell_type": "markdown",
   "metadata": {},
   "source": [
    "###  Model Performance without Imbalanced Data Treatement:"
   ]
  },
  {
   "cell_type": "code",
   "execution_count": 38,
   "metadata": {},
   "outputs": [
    {
     "name": "stderr",
     "output_type": "stream",
     "text": [
      "C:\\Users\\deep\\Anaconda3\\lib\\site-packages\\sklearn\\linear_model\\logistic.py:433: FutureWarning: Default solver will be changed to 'lbfgs' in 0.22. Specify a solver to silence this warning.\n",
      "  FutureWarning)\n"
     ]
    },
    {
     "name": "stdout",
     "output_type": "stream",
     "text": [
      "              precision    recall  f1-score   support\n",
      "\n",
      "           0       0.93      0.97      0.95      8767\n",
      "           1       0.67      0.40      0.50      1118\n",
      "\n",
      "   micro avg       0.91      0.91      0.91      9885\n",
      "   macro avg       0.80      0.69      0.73      9885\n",
      "weighted avg       0.90      0.91      0.90      9885\n",
      "\n"
     ]
    }
   ],
   "source": [
    "from sklearn.metrics import classification_report\n",
    "# logistic regression object \n",
    "lr = LogisticRegression() \n",
    "\n",
    "# train the model on train set \n",
    "lr.fit(X_train, y_train) \n",
    "\n",
    "predictions = lr.predict(X_test) \n",
    "\n",
    "# print classification report \n",
    "print(classification_report(y_test, predictions)) \n"
   ]
  },
  {
   "cell_type": "markdown",
   "metadata": {},
   "source": [
    "###  Model Performance with Imbalanced Data Treatement: OverSampling - SMOTE"
   ]
  },
  {
   "cell_type": "code",
   "execution_count": 88,
   "metadata": {},
   "outputs": [
    {
     "name": "stdout",
     "output_type": "stream",
     "text": [
      "Before OverSampling, counts of label '1': 2582\n",
      "Before OverSampling, counts of label '0': 20483 \n",
      "\n",
      "After OverSampling, the shape of train_X: (40966, 39)\n",
      "After OverSampling, the shape of train_y: (40966,) \n",
      "\n",
      "After OverSampling, counts of label '1': 20483\n",
      "After OverSampling, counts of label '0': 20483\n"
     ]
    }
   ],
   "source": [
    "print(\"Before OverSampling, counts of label '1': {}\".format(sum(y_train == 1))) \n",
    "print(\"Before OverSampling, counts of label '0': {} \\n\".format(sum(y_train == 0))) \n",
    "\n",
    "# import SMOTE module from imblearn library \n",
    "# pip install imblearn (if you don't have imblearn in your system) \n",
    "from imblearn.over_sampling import SMOTE \n",
    "sm = SMOTE(random_state = 2) \n",
    "X_SMOTE, y_SMOTE = sm.fit_sample(X_train, y_train) \n",
    "\n",
    "print('After OverSampling, the shape of train_X: {}'.format(X_SMOTE.shape)) \n",
    "print('After OverSampling, the shape of train_y: {} \\n'.format(y_SMOTE.shape)) \n",
    "\n",
    "print(\"After OverSampling, counts of label '1': {}\".format(sum(y_SMOTE == 1))) \n",
    "print(\"After OverSampling, counts of label '0': {}\".format(sum(y_SMOTE == 0))) \n"
   ]
  },
  {
   "cell_type": "code",
   "execution_count": 40,
   "metadata": {},
   "outputs": [
    {
     "name": "stderr",
     "output_type": "stream",
     "text": [
      "C:\\Users\\deep\\Anaconda3\\lib\\site-packages\\sklearn\\linear_model\\logistic.py:433: FutureWarning: Default solver will be changed to 'lbfgs' in 0.22. Specify a solver to silence this warning.\n",
      "  FutureWarning)\n"
     ]
    },
    {
     "name": "stdout",
     "output_type": "stream",
     "text": [
      "              precision    recall  f1-score   support\n",
      "\n",
      "           0       0.98      0.87      0.92      8767\n",
      "           1       0.45      0.84      0.58      1118\n",
      "\n",
      "   micro avg       0.86      0.86      0.86      9885\n",
      "   macro avg       0.71      0.86      0.75      9885\n",
      "weighted avg       0.92      0.86      0.88      9885\n",
      "\n"
     ]
    }
   ],
   "source": [
    "lr1 = LogisticRegression() \n",
    "lr1.fit(X_train_res, y_train_res.ravel()) \n",
    "predictions = lr1.predict(X_test) \n",
    "\n",
    "# print classification report \n",
    "print(classification_report(y_test, predictions)) \n",
    "os_f1_score=f1_score(y_test, predictions)\n",
    "os_accuracy_score=accuracy_score(y_test, predictions)"
   ]
  },
  {
   "cell_type": "markdown",
   "metadata": {},
   "source": [
    "###  Model Performance with Imbalanced Data Treatement: Undersampling - NearMiss Algorithm"
   ]
  },
  {
   "cell_type": "code",
   "execution_count": 41,
   "metadata": {},
   "outputs": [
    {
     "name": "stdout",
     "output_type": "stream",
     "text": [
      "Before Undersampling, counts of label '1': 2582\n",
      "Before Undersampling, counts of label '0': 20483 \n",
      "\n",
      "After Undersampling, the shape of train_X: (5164, 39)\n",
      "After Undersampling, the shape of train_y: (5164,) \n",
      "\n",
      "After Undersampling, counts of label '1': 2582\n",
      "After Undersampling, counts of label '0': 2582\n"
     ]
    }
   ],
   "source": [
    "print(\"Before Undersampling, counts of label '1': {}\".format(sum(y_train == 1))) \n",
    "print(\"Before Undersampling, counts of label '0': {} \\n\".format(sum(y_train == 0))) \n",
    "\n",
    "# apply near miss \n",
    "from imblearn.under_sampling import NearMiss \n",
    "nr = NearMiss() \n",
    "\n",
    "X_train_miss, y_train_miss = nr.fit_sample(X_train, y_train.ravel()) \n",
    "\n",
    "print('After Undersampling, the shape of train_X: {}'.format(X_train_miss.shape)) \n",
    "print('After Undersampling, the shape of train_y: {} \\n'.format(y_train_miss.shape)) \n",
    "\n",
    "print(\"After Undersampling, counts of label '1': {}\".format(sum(y_train_miss == 1))) \n",
    "print(\"After Undersampling, counts of label '0': {}\".format(sum(y_train_miss == 0))) \n"
   ]
  },
  {
   "cell_type": "code",
   "execution_count": 42,
   "metadata": {},
   "outputs": [
    {
     "name": "stderr",
     "output_type": "stream",
     "text": [
      "C:\\Users\\deep\\Anaconda3\\lib\\site-packages\\sklearn\\linear_model\\logistic.py:433: FutureWarning: Default solver will be changed to 'lbfgs' in 0.22. Specify a solver to silence this warning.\n",
      "  FutureWarning)\n"
     ]
    },
    {
     "name": "stdout",
     "output_type": "stream",
     "text": [
      "              precision    recall  f1-score   support\n",
      "\n",
      "           0       0.97      0.80      0.88      8767\n",
      "           1       0.35      0.82      0.49      1118\n",
      "\n",
      "   micro avg       0.80      0.80      0.80      9885\n",
      "   macro avg       0.66      0.81      0.68      9885\n",
      "weighted avg       0.90      0.80      0.83      9885\n",
      "\n"
     ]
    }
   ],
   "source": [
    "# train the model on train set \n",
    "lr2 = LogisticRegression() \n",
    "lr2.fit(X_train_miss, y_train_miss.ravel()) \n",
    "predictions = lr2.predict(X_test) \n",
    "\n",
    "# print classification report \n",
    "print(classification_report(y_test, predictions)) \n",
    "us_f1_score=f1_score(y_test, predictions)\n",
    "us_accuracy_score=accuracy_score(y_test, predictions)"
   ]
  },
  {
   "cell_type": "code",
   "execution_count": 43,
   "metadata": {},
   "outputs": [
    {
     "data": {
      "text/html": [
       "<div>\n",
       "<style scoped>\n",
       "    .dataframe tbody tr th:only-of-type {\n",
       "        vertical-align: middle;\n",
       "    }\n",
       "\n",
       "    .dataframe tbody tr th {\n",
       "        vertical-align: top;\n",
       "    }\n",
       "\n",
       "    .dataframe thead th {\n",
       "        text-align: right;\n",
       "    }\n",
       "</style>\n",
       "<table border=\"1\" class=\"dataframe\">\n",
       "  <thead>\n",
       "    <tr style=\"text-align: right;\">\n",
       "      <th></th>\n",
       "      <th>Technique</th>\n",
       "      <th>Accuracy Score</th>\n",
       "      <th>F1 Score</th>\n",
       "    </tr>\n",
       "  </thead>\n",
       "  <tbody>\n",
       "    <tr>\n",
       "      <th>0</th>\n",
       "      <td>UnderSampling (Nearmiss)</td>\n",
       "      <td>0.804047</td>\n",
       "      <td>0.486615</td>\n",
       "    </tr>\n",
       "    <tr>\n",
       "      <th>1</th>\n",
       "      <td>Oversampling (SMOTE)</td>\n",
       "      <td>0.863935</td>\n",
       "      <td>0.583978</td>\n",
       "    </tr>\n",
       "  </tbody>\n",
       "</table>\n",
       "</div>"
      ],
      "text/plain": [
       "                  Technique  Accuracy Score  F1 Score\n",
       "0  UnderSampling (Nearmiss)        0.804047  0.486615\n",
       "1      Oversampling (SMOTE)        0.863935  0.583978"
      ]
     },
     "execution_count": 43,
     "metadata": {},
     "output_type": "execute_result"
    }
   ],
   "source": [
    "d = {'Technique': ['UnderSampling (Nearmiss)', 'Oversampling (SMOTE)'], 'Accuracy Score': [us_accuracy_score, os_accuracy_score],'F1 Score':[us_f1_score,os_f1_score]}\n",
    "final_df = pd.DataFrame(data=d)\n",
    "\n",
    "final_df"
   ]
  },
  {
   "cell_type": "markdown",
   "metadata": {},
   "source": [
    "### On the basis of above results, we will use  SMOTE to balance out our data set !"
   ]
  },
  {
   "cell_type": "markdown",
   "metadata": {},
   "source": [
    "We can see that there has been significant rise in the model's prediction power after applying SMOTE on our data. So the we will now be comparing multiple models based on the SMOTE applied and then compare their results to finalise the model we would be choosing for our data set."
   ]
  },
  {
   "cell_type": "markdown",
   "metadata": {},
   "source": [
    "- SMOTE stands for Synthetic Minority Over-sampling Technique.\n",
    "- Unlike Random UnderSampling, SMOTE creates new synthetic points in order to have an equal balance of the classes.\n",
    "- This is another alternative for solving the \"class imbalance problems\". "
   ]
  },
  {
   "cell_type": "markdown",
   "metadata": {},
   "source": [
    "We can see that there has been significant rise in the model's prediction power after applying SMOTE on our data. So the we will now be comparing multiple models based on the SMOTE applied and then compare their results to finalise the model we would be choosing for our data set."
   ]
  },
  {
   "cell_type": "code",
   "execution_count": 89,
   "metadata": {},
   "outputs": [
    {
     "name": "stdout",
     "output_type": "stream",
     "text": [
      "(40966, 39) (40966, 1)\n"
     ]
    }
   ],
   "source": [
    "# Saving the SMOTE data:\n",
    "SMOTE_training_features = pd.DataFrame(X_SMOTE, columns=list(X_train.columns))\n",
    "SMOTE_training_labels = pd.DataFrame(y_SMOTE,columns=['y'])\n",
    "SMOTE_training_features.to_csv('data/SMOTE_training_features.csv',index=False)\n",
    "SMOTE_training_labels.to_csv('data/SMOTE_training_labels.csv',index=False)\n",
    "print(SMOTE_training_features.shape, SMOTE_training_labels.shape)"
   ]
  },
  {
   "cell_type": "markdown",
   "metadata": {},
   "source": [
    "----"
   ]
  },
  {
   "cell_type": "markdown",
   "metadata": {},
   "source": [
    "## Models to Evaluate\n",
    "\n",
    "We will compare five different machine learning models using the great [Scikit-Learn library](http://scikit-learn.org/stable/):\n",
    "\n",
    "1. Logistic Regression\n",
    "2. Knn Classifier \n",
    "3. Decision Tree Classifier \n",
    "4. Random Forest Classifier \n",
    "5. XGboost Classifier \n",
    "\n",
    "\n",
    "To compare the models, we are going to be mostly using the Scikit-Learn defaults for the model hyperparameters. Generally these will perform decently, but should be optimized before actually using a model. At first, we just want to determine the baseline performance of each model, and then we can select the best performing model for further optimization using hyperparameter tuning. Remember that the default hyperparameters will get a model up and running, but nearly always should be adjusted using some sort of search to find the best settings for your problem! \n",
    "\n",
    "Here is what the Scikit-learn documentation [says about the defaults](https://arxiv.org/abs/1309.0238):\n",
    "\n",
    "    __Sensible defaults__: Whenever an operation requires a user-defined parameter,\n",
    "    an appropriate default value is defined by the library. The default value\n",
    "    should cause the operation to be performed in a sensible way (giving a baseline\n",
    "    solution for the task at hand.)\n",
    "\n",
    "One of the best parts about scikit-learn is that all models are implemented in an identical manner: once you know how to build one, you can implement an extremely diverse array of models. Here we will implement the entire training and testing procedures for a number of models in just a few lines of code."
   ]
  },
  {
   "cell_type": "code",
   "execution_count": 57,
   "metadata": {},
   "outputs": [],
   "source": [
    "from sklearn.metrics import average_precision_score, classification_report\n",
    "\n",
    "# Function to calculate mean absolute error\n",
    "def report_cal(y_true, y_pred):\n",
    "    class_report = classification_report(y_true, y_pred)\n",
    "    f1score = f1_score(y_true, y_pred)\n",
    "    precisionscore = precision_score(y_true, y_pred)\n",
    "    \n",
    "\n",
    "    return round(f1score,3), round(precisionscore,3), print(class_report)\n",
    "    \n",
    "\n",
    "\n",
    "# Takes in a model, trains the model, and evaluates the model on the test set\n",
    "def fit_and_evaluate(model):\n",
    "    \n",
    "    # Train the model\n",
    "    model.fit(SMOTE_training_features, SMOTE_training_labels)\n",
    "    \n",
    "    # Make predictions and evalute\n",
    "    model_pred = model.predict(X_test)\n",
    "    model_class_report = report_cal(y_test, model_pred)\n",
    "    \n",
    "    # Return the performance metric\n",
    "    return model_class_report"
   ]
  },
  {
   "cell_type": "code",
   "execution_count": 58,
   "metadata": {},
   "outputs": [
    {
     "data": {
      "text/html": [
       "<div>\n",
       "<style scoped>\n",
       "    .dataframe tbody tr th:only-of-type {\n",
       "        vertical-align: middle;\n",
       "    }\n",
       "\n",
       "    .dataframe tbody tr th {\n",
       "        vertical-align: top;\n",
       "    }\n",
       "\n",
       "    .dataframe thead th {\n",
       "        text-align: right;\n",
       "    }\n",
       "</style>\n",
       "<table border=\"1\" class=\"dataframe\">\n",
       "  <thead>\n",
       "    <tr style=\"text-align: right;\">\n",
       "      <th></th>\n",
       "      <th>age</th>\n",
       "      <th>duration</th>\n",
       "      <th>campaign</th>\n",
       "      <th>pdays</th>\n",
       "      <th>emp.var.rate</th>\n",
       "      <th>cons.price.idx</th>\n",
       "      <th>cons.conf.idx</th>\n",
       "      <th>euribor3m</th>\n",
       "      <th>nr.employed</th>\n",
       "      <th>marital_divorced</th>\n",
       "      <th>...</th>\n",
       "      <th>month_oct</th>\n",
       "      <th>month_sep</th>\n",
       "      <th>day_of_week_fri</th>\n",
       "      <th>day_of_week_mon</th>\n",
       "      <th>day_of_week_thu</th>\n",
       "      <th>day_of_week_tue</th>\n",
       "      <th>day_of_week_wed</th>\n",
       "      <th>poutcome_failure</th>\n",
       "      <th>poutcome_nonexistent</th>\n",
       "      <th>poutcome_success</th>\n",
       "    </tr>\n",
       "  </thead>\n",
       "  <tbody>\n",
       "    <tr>\n",
       "      <th>0</th>\n",
       "      <td>-0.389814</td>\n",
       "      <td>0.739347</td>\n",
       "      <td>-0.565916</td>\n",
       "      <td>-0.195129</td>\n",
       "      <td>-1.203854</td>\n",
       "      <td>-0.866759</td>\n",
       "      <td>-1.427637</td>\n",
       "      <td>-1.287379</td>\n",
       "      <td>-0.951776</td>\n",
       "      <td>-0.355353</td>\n",
       "      <td>...</td>\n",
       "      <td>-0.135857</td>\n",
       "      <td>-0.113627</td>\n",
       "      <td>-0.484776</td>\n",
       "      <td>1.965962</td>\n",
       "      <td>-0.516008</td>\n",
       "      <td>-0.497221</td>\n",
       "      <td>-0.493216</td>\n",
       "      <td>2.959881</td>\n",
       "      <td>-2.523690</td>\n",
       "      <td>-0.185466</td>\n",
       "    </tr>\n",
       "    <tr>\n",
       "      <th>1</th>\n",
       "      <td>2.010339</td>\n",
       "      <td>0.642362</td>\n",
       "      <td>-0.565916</td>\n",
       "      <td>5.124802</td>\n",
       "      <td>-1.140186</td>\n",
       "      <td>0.771807</td>\n",
       "      <td>0.472729</td>\n",
       "      <td>-1.577396</td>\n",
       "      <td>-2.446259</td>\n",
       "      <td>-0.355353</td>\n",
       "      <td>...</td>\n",
       "      <td>-0.135857</td>\n",
       "      <td>-0.113627</td>\n",
       "      <td>-0.484776</td>\n",
       "      <td>-0.508657</td>\n",
       "      <td>-0.516008</td>\n",
       "      <td>-0.497221</td>\n",
       "      <td>2.027509</td>\n",
       "      <td>-0.337851</td>\n",
       "      <td>-2.523690</td>\n",
       "      <td>5.391819</td>\n",
       "    </tr>\n",
       "    <tr>\n",
       "      <th>2</th>\n",
       "      <td>-0.389814</td>\n",
       "      <td>0.723830</td>\n",
       "      <td>-0.565916</td>\n",
       "      <td>-0.195129</td>\n",
       "      <td>0.642497</td>\n",
       "      <td>0.715008</td>\n",
       "      <td>0.883036</td>\n",
       "      <td>0.706349</td>\n",
       "      <td>0.325833</td>\n",
       "      <td>2.814104</td>\n",
       "      <td>...</td>\n",
       "      <td>-0.135857</td>\n",
       "      <td>-0.113627</td>\n",
       "      <td>-0.484776</td>\n",
       "      <td>-0.508657</td>\n",
       "      <td>-0.516008</td>\n",
       "      <td>-0.497221</td>\n",
       "      <td>2.027509</td>\n",
       "      <td>-0.337851</td>\n",
       "      <td>0.396245</td>\n",
       "      <td>-0.185466</td>\n",
       "    </tr>\n",
       "    <tr>\n",
       "      <th>3</th>\n",
       "      <td>-0.197802</td>\n",
       "      <td>0.692794</td>\n",
       "      <td>0.524578</td>\n",
       "      <td>-0.195129</td>\n",
       "      <td>0.642497</td>\n",
       "      <td>0.715008</td>\n",
       "      <td>0.883036</td>\n",
       "      <td>0.708082</td>\n",
       "      <td>0.325833</td>\n",
       "      <td>-0.355353</td>\n",
       "      <td>...</td>\n",
       "      <td>-0.135857</td>\n",
       "      <td>-0.113627</td>\n",
       "      <td>-0.484776</td>\n",
       "      <td>-0.508657</td>\n",
       "      <td>-0.516008</td>\n",
       "      <td>-0.497221</td>\n",
       "      <td>2.027509</td>\n",
       "      <td>-0.337851</td>\n",
       "      <td>0.396245</td>\n",
       "      <td>-0.185466</td>\n",
       "    </tr>\n",
       "    <tr>\n",
       "      <th>4</th>\n",
       "      <td>-0.485821</td>\n",
       "      <td>0.203986</td>\n",
       "      <td>-0.565916</td>\n",
       "      <td>-0.195129</td>\n",
       "      <td>0.642497</td>\n",
       "      <td>0.715008</td>\n",
       "      <td>0.883036</td>\n",
       "      <td>0.706927</td>\n",
       "      <td>0.325833</td>\n",
       "      <td>-0.355353</td>\n",
       "      <td>...</td>\n",
       "      <td>-0.135857</td>\n",
       "      <td>-0.113627</td>\n",
       "      <td>-0.484776</td>\n",
       "      <td>1.965962</td>\n",
       "      <td>-0.516008</td>\n",
       "      <td>-0.497221</td>\n",
       "      <td>-0.493216</td>\n",
       "      <td>-0.337851</td>\n",
       "      <td>0.396245</td>\n",
       "      <td>-0.185466</td>\n",
       "    </tr>\n",
       "  </tbody>\n",
       "</table>\n",
       "<p>5 rows × 39 columns</p>\n",
       "</div>"
      ],
      "text/plain": [
       "        age  duration  campaign     pdays  emp.var.rate  cons.price.idx  \\\n",
       "0 -0.389814  0.739347 -0.565916 -0.195129     -1.203854       -0.866759   \n",
       "1  2.010339  0.642362 -0.565916  5.124802     -1.140186        0.771807   \n",
       "2 -0.389814  0.723830 -0.565916 -0.195129      0.642497        0.715008   \n",
       "3 -0.197802  0.692794  0.524578 -0.195129      0.642497        0.715008   \n",
       "4 -0.485821  0.203986 -0.565916 -0.195129      0.642497        0.715008   \n",
       "\n",
       "   cons.conf.idx  euribor3m  nr.employed  marital_divorced  ...  month_oct  \\\n",
       "0      -1.427637  -1.287379    -0.951776         -0.355353  ...  -0.135857   \n",
       "1       0.472729  -1.577396    -2.446259         -0.355353  ...  -0.135857   \n",
       "2       0.883036   0.706349     0.325833          2.814104  ...  -0.135857   \n",
       "3       0.883036   0.708082     0.325833         -0.355353  ...  -0.135857   \n",
       "4       0.883036   0.706927     0.325833         -0.355353  ...  -0.135857   \n",
       "\n",
       "   month_sep  day_of_week_fri  day_of_week_mon  day_of_week_thu  \\\n",
       "0  -0.113627        -0.484776         1.965962        -0.516008   \n",
       "1  -0.113627        -0.484776        -0.508657        -0.516008   \n",
       "2  -0.113627        -0.484776        -0.508657        -0.516008   \n",
       "3  -0.113627        -0.484776        -0.508657        -0.516008   \n",
       "4  -0.113627        -0.484776         1.965962        -0.516008   \n",
       "\n",
       "   day_of_week_tue  day_of_week_wed  poutcome_failure  poutcome_nonexistent  \\\n",
       "0        -0.497221        -0.493216          2.959881             -2.523690   \n",
       "1        -0.497221         2.027509         -0.337851             -2.523690   \n",
       "2        -0.497221         2.027509         -0.337851              0.396245   \n",
       "3        -0.497221         2.027509         -0.337851              0.396245   \n",
       "4        -0.497221        -0.493216         -0.337851              0.396245   \n",
       "\n",
       "   poutcome_success  \n",
       "0         -0.185466  \n",
       "1          5.391819  \n",
       "2         -0.185466  \n",
       "3         -0.185466  \n",
       "4         -0.185466  \n",
       "\n",
       "[5 rows x 39 columns]"
      ]
     },
     "execution_count": 58,
     "metadata": {},
     "output_type": "execute_result"
    }
   ],
   "source": [
    "SMOTE_training_features.head()"
   ]
  },
  {
   "cell_type": "code",
   "execution_count": 59,
   "metadata": {},
   "outputs": [],
   "source": [
    "from sklearn.metrics import f1_score, precision_score, accuracy_score"
   ]
  },
  {
   "cell_type": "markdown",
   "metadata": {},
   "source": [
    "## Logistic Regression"
   ]
  },
  {
   "cell_type": "code",
   "execution_count": 62,
   "metadata": {},
   "outputs": [
    {
     "name": "stderr",
     "output_type": "stream",
     "text": [
      "C:\\Users\\deep\\Anaconda3\\lib\\site-packages\\sklearn\\linear_model\\logistic.py:433: FutureWarning: Default solver will be changed to 'lbfgs' in 0.22. Specify a solver to silence this warning.\n",
      "  FutureWarning)\n",
      "C:\\Users\\deep\\Anaconda3\\lib\\site-packages\\sklearn\\utils\\validation.py:761: DataConversionWarning: A column-vector y was passed when a 1d array was expected. Please change the shape of y to (n_samples, ), for example using ravel().\n",
      "  y = column_or_1d(y, warn=True)\n"
     ]
    },
    {
     "name": "stdout",
     "output_type": "stream",
     "text": [
      "              precision    recall  f1-score   support\n",
      "\n",
      "           0       0.98      0.87      0.92      8767\n",
      "           1       0.45      0.84      0.58      1118\n",
      "\n",
      "   micro avg       0.86      0.86      0.86      9885\n",
      "   macro avg       0.71      0.86      0.75      9885\n",
      "weighted avg       0.92      0.86      0.88      9885\n",
      "\n",
      "f1score and Precision for Logistic : (0.584, 0.446, None)\n"
     ]
    }
   ],
   "source": [
    "from sklearn.linear_model import LogisticRegression\n",
    "lr = LogisticRegression()\n",
    "lr_classreport = fit_and_evaluate(lr)\n",
    "\n",
    "print('f1score and Precision for Logistic :', lr_classreport)"
   ]
  },
  {
   "cell_type": "markdown",
   "metadata": {},
   "source": [
    "## KNN Classifier "
   ]
  },
  {
   "cell_type": "code",
   "execution_count": 50,
   "metadata": {},
   "outputs": [
    {
     "name": "stdout",
     "output_type": "stream",
     "text": [
      "              precision    recall  f1-score   support\n",
      "\n",
      "           0       0.96      0.88      0.92      8767\n",
      "           1       0.42      0.72      0.53      1118\n",
      "\n",
      "   micro avg       0.86      0.86      0.86      9885\n",
      "   macro avg       0.69      0.80      0.73      9885\n",
      "weighted avg       0.90      0.86      0.87      9885\n",
      "\n",
      "f1score and Precision for KNN : (0.534, 0.425, None)\n"
     ]
    }
   ],
   "source": [
    "from sklearn.neighbors import KNeighborsClassifier\n",
    "knn = KNeighborsClassifier()\n",
    "knn_classreport = fit_and_evaluate(knn)\n",
    "\n",
    "print('f1score and Precision for KNN :', knn_classreport)"
   ]
  },
  {
   "cell_type": "markdown",
   "metadata": {},
   "source": [
    "## Decision Tree Classifier "
   ]
  },
  {
   "cell_type": "code",
   "execution_count": 63,
   "metadata": {},
   "outputs": [
    {
     "name": "stdout",
     "output_type": "stream",
     "text": [
      "              precision    recall  f1-score   support\n",
      "\n",
      "           0       0.96      0.83      0.90      8767\n",
      "           1       0.37      0.76      0.50      1118\n",
      "\n",
      "   micro avg       0.83      0.83      0.83      9885\n",
      "   macro avg       0.67      0.80      0.70      9885\n",
      "weighted avg       0.90      0.83      0.85      9885\n",
      "\n",
      "f1score and Precision for Decision Tree : (0.497, 0.369, None)\n"
     ]
    }
   ],
   "source": [
    "from sklearn.tree import DecisionTreeClassifier\n",
    "dt = DecisionTreeClassifier()\n",
    "dt_classreport = fit_and_evaluate(dt)\n",
    "\n",
    "print('f1score and Precision for Decision Tree :', dt_classreport)"
   ]
  },
  {
   "cell_type": "markdown",
   "metadata": {},
   "source": [
    "## Random Forest Classifier "
   ]
  },
  {
   "cell_type": "code",
   "execution_count": 64,
   "metadata": {},
   "outputs": [
    {
     "name": "stderr",
     "output_type": "stream",
     "text": [
      "C:\\Users\\deep\\Anaconda3\\lib\\site-packages\\sklearn\\ensemble\\forest.py:246: FutureWarning: The default value of n_estimators will change from 10 in version 0.20 to 100 in 0.22.\n",
      "  \"10 in version 0.20 to 100 in 0.22.\", FutureWarning)\n",
      "C:\\Users\\deep\\Anaconda3\\lib\\site-packages\\ipykernel_launcher.py:18: DataConversionWarning: A column-vector y was passed when a 1d array was expected. Please change the shape of y to (n_samples,), for example using ravel().\n"
     ]
    },
    {
     "name": "stdout",
     "output_type": "stream",
     "text": [
      "              precision    recall  f1-score   support\n",
      "\n",
      "           0       0.98      0.81      0.89      8767\n",
      "           1       0.37      0.86      0.52      1118\n",
      "\n",
      "   micro avg       0.82      0.82      0.82      9885\n",
      "   macro avg       0.67      0.84      0.70      9885\n",
      "weighted avg       0.91      0.82      0.85      9885\n",
      "\n",
      "f1score and Precision  for Random Forest Classifier: (0.518, 0.371, None)\n"
     ]
    }
   ],
   "source": [
    "from sklearn.ensemble import RandomForestClassifier\n",
    "rf = RandomForestClassifier()\n",
    "rf_classreport = fit_and_evaluate(rf)\n",
    "\n",
    "print('f1score and Precision  for Random Forest Classifier:', rf_classreport)"
   ]
  },
  {
   "cell_type": "markdown",
   "metadata": {},
   "source": [
    "## XG boost classifier "
   ]
  },
  {
   "cell_type": "code",
   "execution_count": 65,
   "metadata": {},
   "outputs": [
    {
     "name": "stderr",
     "output_type": "stream",
     "text": [
      "C:\\Users\\deep\\Anaconda3\\lib\\site-packages\\sklearn\\preprocessing\\label.py:219: DataConversionWarning: A column-vector y was passed when a 1d array was expected. Please change the shape of y to (n_samples, ), for example using ravel().\n",
      "  y = column_or_1d(y, warn=True)\n",
      "C:\\Users\\deep\\Anaconda3\\lib\\site-packages\\sklearn\\preprocessing\\label.py:252: DataConversionWarning: A column-vector y was passed when a 1d array was expected. Please change the shape of y to (n_samples, ), for example using ravel().\n",
      "  y = column_or_1d(y, warn=True)\n"
     ]
    },
    {
     "name": "stdout",
     "output_type": "stream",
     "text": [
      "              precision    recall  f1-score   support\n",
      "\n",
      "           0       0.98      0.86      0.92      8767\n",
      "           1       0.44      0.86      0.58      1118\n",
      "\n",
      "   micro avg       0.86      0.86      0.86      9885\n",
      "   macro avg       0.71      0.86      0.75      9885\n",
      "weighted avg       0.92      0.86      0.88      9885\n",
      "\n",
      "f1score and Precision for XG Boost Classifier: (0.584, 0.441, None)\n"
     ]
    }
   ],
   "source": [
    "from xgboost import XGBRFClassifier\n",
    "xg = XGBRFClassifier()\n",
    "xg_classreport = fit_and_evaluate(xg)\n",
    "\n",
    "print('f1score and Precision for XG Boost Classifier:', xg_classreport)"
   ]
  },
  {
   "cell_type": "code",
   "execution_count": 66,
   "metadata": {},
   "outputs": [
    {
     "data": {
      "text/plain": [
       "<Figure size 576x432 with 0 Axes>"
      ]
     },
     "metadata": {},
     "output_type": "display_data"
    },
    {
     "data": {
      "image/png": "[encoded data removed]",
      "text/plain": [
       "<Figure size 432x288 with 1 Axes>"
      ]
     },
     "metadata": {},
     "output_type": "display_data"
    }
   ],
   "source": [
    "plt.style.use('fivethirtyeight')\n",
    "plt.figure(figsize=[8, 6])\n",
    "\n",
    "# Dataframe to hold the results\n",
    "model_comparison = pd.DataFrame({'model': ['Logistic Regression', 'KNN',\n",
    "                                           'Decision Tree', 'Random Forest',\n",
    "                                            'XGBoost'],\n",
    "                                 'f1score': [lr_classreport[0], knn_classreport[0], dt_classreport[0], \n",
    "                                         rf_classreport[0], xg_classreport[0]]})\n",
    "\n",
    "# Horizontal bar chart of test mae\n",
    "model_comparison.sort_values('f1score', ascending = False).plot(x = 'model', y = 'f1score', kind = 'barh',\n",
    "                                                           color = 'b', edgecolor = 'black')\n",
    "\n",
    "# Plot formatting\n",
    "plt.ylabel(''); plt.yticks(size = 14); plt.xlabel('F1 - Score'); plt.xticks(size = 14)\n",
    "plt.title('Model Comparison on metric f1score', size = 20);"
   ]
  },
  {
   "cell_type": "markdown",
   "metadata": {},
   "source": [
    "Depending on the run (the exact results change slighty each time), the Logistic regressor performs the best followed by the XG boost classifier. I have to admit that this is not the most fair comparison because we are using mostly the default hyperparameters. Nonetheless, from these results, we can conclude that machine learning is applicable because all the models significantly outperform the baseline!\n",
    "\n",
    "From here, We are going to concentrate on optimizing the best model using hyperparamter tuning. Given the results here, We will concentrate on using the `LogisticRegressor`. "
   ]
  },
  {
   "cell_type": "markdown",
   "metadata": {},
   "source": [
    "# Model Optimization \n",
    "\n",
    "In machine learning, optimizing a model means finding the best set of hyperparameters for a particular problem. \n",
    "\n",
    "## Hyperparameters\n",
    "\n",
    "First off, we need to understand what [model hyperparameters are in contrast to model parameters](https://machinelearningmastery.com/difference-between-a-parameter-and-a-hyperparameter/) :\n",
    "\n",
    "* Model __hyperparameters__ are best thought of as settings for a machine learning algorithm that are tuned by the data scientist before training. Examples would be the number of trees in the random forest, or the number of neighbors used in K Nearest Neighbors Regression. \n",
    "* Model __parameters__ are what the model learns during training, such as the weights in the linear regression.\n",
    "\n",
    "We as data scientists control a model by choosing the hyperparameters, and these choices can have a significant effect on the final performance of the model (although usually not as great of an effect as getting more data or engineering features). \n",
    "\n",
    "[Tuning the model hyperparameters](http://scikit-learn.org/stable/modules/grid_search.html) controls the balance of under vs over fitting in a model. We can try to correct for under-fitting by making a more complex model, such as using more trees in a random forest or more layers in a deep neural network. A model that underfits has high bias, and occurs when our model does not have enough capacity (degrees of freedom) to learn the relationship between the features and the target. We can try to correct for overfitting by limiting the complexity of the model and applying regularization. This might mean decreasing the degree of a polynomial regression, or adding dropout layers to a deep neural network. A model that overfits has high variance and in effect has memorized the training set. Both underfitting and overfitting lead to poor generalization performance on the test set. \n",
    "\n",
    "The problem with choosing the hyperparameters is that no set will work best across all problems. Therefore, for every new dataset, we have to find the best settings. This can be a time-consuming process, but luckily there are several options for performing this procedure in Scikit-Learn. Even better, new libraries, such as [TPOT](https://epistasislab.github.io/tpot/) by epistasis labs, is aiming to do this process automatically for you! For now, we will stick to doing this manually (sort of) in Scikit-Learn, but stay tuned for an article on automatic model selection! "
   ]
  },
  {
   "cell_type": "markdown",
   "metadata": {},
   "source": [
    "Here we will implement random search with cross validation to select the optimal hyperparameters for the Logistic Regression. We first define a grid then peform an iterative process of: randomly sample a set of hyperparameters from the grid, evaluate the hyperparameters using 4-fold cross-validation, and then select the hyperparameters with the best performance. \n",
    "\n",
    "Of course we don't actually do this iteration ourselves, we let Scikit-Learn and `RandomizedSearchCV` do the process for us! "
   ]
  },
  {
   "cell_type": "markdown",
   "metadata": {},
   "source": [
    "### Running the models again with optimised parameters"
   ]
  },
  {
   "cell_type": "code",
   "execution_count": 53,
   "metadata": {},
   "outputs": [],
   "source": [
    "from sklearn.model_selection import GridSearchCV, RandomizedSearchCV"
   ]
  },
  {
   "cell_type": "markdown",
   "metadata": {},
   "source": [
    "## Logistic Regression - With hyper parameter tuning"
   ]
  },
  {
   "cell_type": "code",
   "execution_count": 81,
   "metadata": {
    "scrolled": true
   },
   "outputs": [
    {
     "name": "stderr",
     "output_type": "stream",
     "text": [
      "C:\\Users\\canuc\\Anaconda3\\lib\\site-packages\\sklearn\\linear_model\\logistic.py:432: FutureWarning: Default solver will be changed to 'lbfgs' in 0.22. Specify a solver to silence this warning.\n",
      "  FutureWarning)\n"
     ]
    },
    {
     "name": "stdout",
     "output_type": "stream",
     "text": [
      "Best: 0.877569 using {'C': 1.0, 'dual': False, 'max_iter': 100}\n",
      "Execution time: 49.051557302474976 ms\n"
     ]
    }
   ],
   "source": [
    "# getting the best parameters for Logistic Regression \n",
    "import time\n",
    "\n",
    "dual=[True,False]\n",
    "max_iter=[100,110,120,130,140]\n",
    "C = [1.0,1.5,2.0,2.5]\n",
    "param_grid = dict(dual=dual,max_iter=max_iter,C=C)\n",
    "lr = LogisticRegression(penalty='l2', random_state=42)\n",
    "grid = GridSearchCV(estimator=lr, param_grid=param_grid, cv = 3, n_jobs=-1, scoring='f1')\n",
    "\n",
    "start_time = time.time()\n",
    "grid_result = grid.fit(SMOTE_training_features, SMOTE_training_labels)\n",
    "# Summarize results\n",
    "print(\"Best: %f using %s\" % (grid_result.best_score_, grid_result.best_params_))\n",
    "print(\"Execution time: \" + str((time.time() - start_time)) + ' ms')"
   ]
  },
  {
   "cell_type": "code",
   "execution_count": 82,
   "metadata": {},
   "outputs": [],
   "source": [
    "lr_estimator = grid_result.estimator"
   ]
  },
  {
   "cell_type": "code",
   "execution_count": 67,
   "metadata": {},
   "outputs": [
    {
     "name": "stderr",
     "output_type": "stream",
     "text": [
      "C:\\Users\\deep\\Anaconda3\\lib\\site-packages\\sklearn\\linear_model\\logistic.py:433: FutureWarning: Default solver will be changed to 'lbfgs' in 0.22. Specify a solver to silence this warning.\n",
      "  FutureWarning)\n",
      "C:\\Users\\deep\\Anaconda3\\lib\\site-packages\\sklearn\\utils\\validation.py:761: DataConversionWarning: A column-vector y was passed when a 1d array was expected. Please change the shape of y to (n_samples, ), for example using ravel().\n",
      "  y = column_or_1d(y, warn=True)\n"
     ]
    },
    {
     "name": "stdout",
     "output_type": "stream",
     "text": [
      "              precision    recall  f1-score   support\n",
      "\n",
      "           0       0.98      0.87      0.92      8767\n",
      "           1       0.45      0.84      0.58      1118\n",
      "\n",
      "   micro avg       0.86      0.86      0.86      9885\n",
      "   macro avg       0.71      0.86      0.75      9885\n",
      "weighted avg       0.92      0.86      0.88      9885\n",
      "\n",
      "f1score and Precision for Logistic : (0.584, 0.446, None)\n"
     ]
    }
   ],
   "source": [
    "from sklearn.linear_model import LogisticRegression\n",
    "lr = LogisticRegression(C= 1.0, dual= False, max_iter= 100)\n",
    "lr_classreport = fit_and_evaluate(lr)\n",
    "\n",
    "print('f1score and Precision for Logistic :', lr_classreport)"
   ]
  },
  {
   "cell_type": "markdown",
   "metadata": {},
   "source": [
    "## KNN Classifier - With hyper parameter tuning"
   ]
  },
  {
   "cell_type": "code",
   "execution_count": 121,
   "metadata": {},
   "outputs": [],
   "source": [
    "#making the instance\n",
    "model = KNeighborsClassifier(n_jobs=-1)\n",
    "#Hyper Parameters Set\n",
    "params = {'n_neighbors':[5,6,7,8,9,10],\n",
    "          'leaf_size':[1,2,3,5],\n",
    "          'weights':['uniform', 'distance'],\n",
    "          'algorithm':['auto', 'ball_tree','kd_tree','brute'],\n",
    "          'n_jobs':[-1]}\n",
    "#Making models with hyper parameters sets\n",
    "model0 = GridSearchCV(model, param_grid=params, n_jobs=1)"
   ]
  },
  {
   "cell_type": "code",
   "execution_count": 122,
   "metadata": {},
   "outputs": [
    {
     "name": "stdout",
     "output_type": "stream",
     "text": [
      "              precision    recall  f1-score   support\n",
      "\n",
      "           0       0.97      0.92      0.95      6571\n",
      "           1       0.57      0.81      0.67       843\n",
      "\n",
      "    accuracy                           0.91      7414\n",
      "   macro avg       0.77      0.87      0.81      7414\n",
      "weighted avg       0.93      0.91      0.92      7414\n",
      "\n",
      "f1score and Precision for KNN : (0.671, 0.571, None)\n"
     ]
    }
   ],
   "source": [
    "from sklearn.neighbors import KNeighborsClassifier\n",
    "knn = model0.estimator\n",
    "knn_classreport = fit_and_evaluate(knn)\n",
    "\n",
    "print('f1score and Precision for KNN :', knn_classreport)"
   ]
  },
  {
   "cell_type": "markdown",
   "metadata": {},
   "source": [
    "## Decision Tree - with hyper parameter tuning"
   ]
  },
  {
   "cell_type": "code",
   "execution_count": 84,
   "metadata": {},
   "outputs": [
    {
     "name": "stderr",
     "output_type": "stream",
     "text": [
      "C:\\Users\\canuc\\Anaconda3\\lib\\site-packages\\sklearn\\model_selection\\_split.py:1978: FutureWarning: The default value of cv will change from 3 to 5 in version 0.22. Specify it explicitly to silence this warning.\n",
      "  warnings.warn(CV_WARNING, FutureWarning)\n"
     ]
    },
    {
     "name": "stdout",
     "output_type": "stream",
     "text": [
      "Best Hyper Parameters: {'max_features': 'auto', 'min_samples_leaf': 1, 'min_samples_split': 5, 'random_state': 42}\n",
      "Execution time: 74.84459066390991 ms\n"
     ]
    }
   ],
   "source": [
    "model= DecisionTreeClassifier(random_state=42)\n",
    "#Hyper Parameters Set\n",
    "params = {'max_features': ['auto', 'sqrt', 'log2'],\n",
    "          'min_samples_split': [2,3,4,5,6,7,8,9,10,11,12,13,14,15], \n",
    "          'min_samples_leaf':[1,2,3,4,5,6,7,8,9,10,11],\n",
    "          'random_state':[42]}\n",
    "#Making models with hyper parameters sets\n",
    "model1 = GridSearchCV(model, param_grid=params, n_jobs=-1)\n",
    "#Learning\n",
    "start_time = time.time()\n",
    "model1.fit(SMOTE_training_features, SMOTE_training_labels)\n",
    "#The best hyper parameters set\n",
    "print(\"Best Hyper Parameters:\",model1.best_params_)\n",
    "print(\"Execution time: \" + str((time.time() - start_time)) + ' ms')"
   ]
  },
  {
   "cell_type": "code",
   "execution_count": 72,
   "metadata": {},
   "outputs": [
    {
     "name": "stdout",
     "output_type": "stream",
     "text": [
      "              precision    recall  f1-score   support\n",
      "\n",
      "           0       0.96      0.84      0.90      8767\n",
      "           1       0.37      0.75      0.49      1118\n",
      "\n",
      "   micro avg       0.83      0.83      0.83      9885\n",
      "   macro avg       0.67      0.79      0.69      9885\n",
      "weighted avg       0.90      0.83      0.85      9885\n",
      "\n",
      "f1score and Precision for Decision Tree : (0.493, 0.368, None)\n"
     ]
    }
   ],
   "source": [
    "from sklearn.tree import DecisionTreeClassifier\n",
    "dt = model1.estimator\n",
    "dt_classreport = fit_and_evaluate(dt)\n",
    "\n",
    "print('f1score and Precision for Decision Tree :', dt_classreport)"
   ]
  },
  {
   "cell_type": "markdown",
   "metadata": {},
   "source": [
    "## Random Forest Classifier - With Hyper Parameter Tuning"
   ]
  },
  {
   "cell_type": "code",
   "execution_count": 87,
   "metadata": {},
   "outputs": [
    {
     "name": "stderr",
     "output_type": "stream",
     "text": [
      "C:\\Users\\canuc\\Anaconda3\\lib\\site-packages\\sklearn\\model_selection\\_split.py:1978: FutureWarning: The default value of cv will change from 3 to 5 in version 0.22. Specify it explicitly to silence this warning.\n",
      "  warnings.warn(CV_WARNING, FutureWarning)\n"
     ]
    },
    {
     "name": "stdout",
     "output_type": "stream",
     "text": [
      "Best Hyper Parameters: {'criterion': 'gini', 'min_samples_leaf': 2, 'min_samples_split': 6, 'n_estimators': 25, 'n_jobs': -1, 'random_state': 42}\n",
      "Execution time: 144.74984288215637 ms\n"
     ]
    }
   ],
   "source": [
    "model=RandomForestClassifier()\n",
    "#hyper parameters set\n",
    "params = {'criterion':['gini','entropy'],\n",
    "          'n_estimators':[10,15,20,25,30],\n",
    "          'min_samples_leaf':[1,2,3],\n",
    "          'min_samples_split':[3,4,5,6,7], \n",
    "          'random_state':[42],\n",
    "          'n_jobs':[-1]}\n",
    "#Making models with hyper parameters sets\n",
    "model2 = GridSearchCV(model, param_grid=params, n_jobs=-1)\n",
    "\n",
    "#Learning\n",
    "start_time = time.time()\n",
    "model2.fit(scaled_xtrain, y_SMOTE)\n",
    "#The best hyper parameters set\n",
    "print(\"Best Hyper Parameters:\",model2.best_params_)\n",
    "print(\"Execution time: \" + str((time.time() - start_time)) + ' ms')"
   ]
  },
  {
   "cell_type": "code",
   "execution_count": 84,
   "metadata": {},
   "outputs": [
    {
     "name": "stderr",
     "output_type": "stream",
     "text": [
      "C:\\Users\\deep\\Anaconda3\\lib\\site-packages\\ipykernel_launcher.py:18: DataConversionWarning: A column-vector y was passed when a 1d array was expected. Please change the shape of y to (n_samples,), for example using ravel().\n"
     ]
    },
    {
     "name": "stdout",
     "output_type": "stream",
     "text": [
      "              precision    recall  f1-score   support\n",
      "\n",
      "           0       0.98      0.82      0.90      8767\n",
      "           1       0.39      0.90      0.55      1118\n",
      "\n",
      "   micro avg       0.83      0.83      0.83      9885\n",
      "   macro avg       0.69      0.86      0.72      9885\n",
      "weighted avg       0.92      0.83      0.86      9885\n",
      "\n",
      "f1score and Precision  for Random Forest Classifier: (0.548, 0.394, None)\n"
     ]
    }
   ],
   "source": [
    "from sklearn.ensemble import RandomForestClassifier\n",
    "rf = RandomForestClassifier(n_estimators=25)\n",
    "rf_classreport = fit_and_evaluate(rf)\n",
    "\n",
    "print('f1score and Precision  for Random Forest Classifier:', rf_classreport)"
   ]
  },
  {
   "cell_type": "markdown",
   "metadata": {},
   "source": [
    "## XG Boost - With Hyper Parameter Tuning"
   ]
  },
  {
   "cell_type": "code",
   "execution_count": 92,
   "metadata": {},
   "outputs": [
    {
     "name": "stderr",
     "output_type": "stream",
     "text": [
      "C:\\Users\\canuc\\Anaconda3\\lib\\site-packages\\sklearn\\model_selection\\_split.py:1978: FutureWarning: The default value of cv will change from 3 to 5 in version 0.22. Specify it explicitly to silence this warning.\n",
      "  warnings.warn(CV_WARNING, FutureWarning)\n"
     ]
    },
    {
     "name": "stdout",
     "output_type": "stream",
     "text": [
      "Best Hyper Parameters: {'criterion': 'gini', 'min_samples_leaf': 2, 'min_samples_split': 6, 'n_estimators': 25, 'n_jobs': -1, 'random_state': 42}\n",
      "Execution time: 2239.2772352695465 ms\n"
     ]
    }
   ],
   "source": [
    "model=XGBRFClassifier()\n",
    "#hyper parameters set\n",
    "params = params = {\n",
    "        'min_child_weight': [1, 5, 10],\n",
    "        'gamma': [0.5, 1, 1.5, 2, 5],\n",
    "        'subsample': [0.6, 0.8, 1.0],\n",
    "        'colsample_bytree': [0.6, 0.8, 1.0],\n",
    "        'max_depth': [3, 4, 5], 'random_state':[42]\n",
    "        }\n",
    "\n",
    "#Making models with hyper parameters sets\n",
    "model3 = GridSearchCV(model, param_grid=params, n_jobs=-1)\n",
    "\n",
    "#Learning\n",
    "start_time = time.time()\n",
    "model3.fit(scaled_xtrain, y_SMOTE)\n",
    "#The best hyper parameters set\n",
    "print(\"Best Hyper Parameters:\",model3.best_params_)\n",
    "print(\"Execution time: \" + str((time.time() - start_time)) + ' ms')"
   ]
  },
  {
   "cell_type": "code",
   "execution_count": 125,
   "metadata": {},
   "outputs": [
    {
     "name": "stdout",
     "output_type": "stream",
     "text": [
      "              precision    recall  f1-score   support\n",
      "\n",
      "           0       0.99      0.78      0.87      6571\n",
      "           1       0.35      0.91      0.50       843\n",
      "\n",
      "    accuracy                           0.79      7414\n",
      "   macro avg       0.67      0.85      0.69      7414\n",
      "weighted avg       0.91      0.79      0.83      7414\n",
      "\n",
      "f1score and Precision for XG Boost Classifier: (0.501, 0.345, None)\n"
     ]
    }
   ],
   "source": [
    "from xgboost import XGBRFClassifier\n",
    "xg = model3.estimator\n",
    "xg_classreport = fit_and_evaluate(xg)\n",
    "\n",
    "print('f1score and Precision for XG Boost Classifier:', xg_classreport)"
   ]
  },
  {
   "cell_type": "code",
   "execution_count": 85,
   "metadata": {},
   "outputs": [
    {
     "data": {
      "text/plain": [
       "<Figure size 576x432 with 0 Axes>"
      ]
     },
     "metadata": {},
     "output_type": "display_data"
    },
    {
     "data": {
      "image/png": "[encoded data removed]",
      "text/plain": [
       "<Figure size 432x288 with 1 Axes>"
      ]
     },
     "metadata": {},
     "output_type": "display_data"
    }
   ],
   "source": [
    "plt.style.use('fivethirtyeight')\n",
    "plt.figure(figsize=[8, 6])\n",
    "\n",
    "# Dataframe to hold the results\n",
    "model_comparison = pd.DataFrame({'model': ['Logistic Regression', 'KNN',\n",
    "                                           'Decision Tree', 'Random Forest',\n",
    "                                            'XGBoost'],\n",
    "                                 'f1score': [lr_classreport[0], knn_classreport[0], dt_classreport[0], \n",
    "                                         rf_classreport[0], xg_classreport[0]]})\n",
    "\n",
    "# Horizontal bar chart of test mae\n",
    "model_comparison.sort_values('f1score', ascending = False).plot(x = 'model', y = 'f1score', kind = 'barh',\n",
    "                                                           color = 'g', edgecolor = 'black')\n",
    "\n",
    "# Plot formatting\n",
    "plt.ylabel(''); plt.yticks(size = 14); plt.xlabel('F1 - Score'); plt.xticks(size = 14)\n",
    "plt.title('Model Comparison on metric f1score', size = 20);"
   ]
  },
  {
   "cell_type": "markdown",
   "metadata": {},
   "source": [
    "Since XG boost, Logistic regression are  performing well on the problem and the F1-score shows a significant rise in the training data. We will be using Logistic Regression as our final classification model since it offers Model explainability."
   ]
  },
  {
   "cell_type": "code",
   "execution_count": null,
   "metadata": {},
   "outputs": [],
   "source": []
  }
 ],
 "metadata": {
  "kernelspec": {
   "display_name": "Python 3",
   "language": "python",
   "name": "python3"
  },
  "language_info": {
   "codemirror_mode": {
    "name": "ipython",
    "version": 3
   },
   "file_extension": ".py",
   "mimetype": "text/x-python",
   "name": "python",
   "nbconvert_exporter": "python",
   "pygments_lexer": "ipython3",
   "version": "3.7.3"
  }
 },
 "nbformat": 4,
 "nbformat_minor": 2
}
